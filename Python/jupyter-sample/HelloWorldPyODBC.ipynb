{
 "cells": [
  {
   "cell_type": "markdown",
   "metadata": {},
   "source": [
    "<h1>PyODBC を利用して InterSystems IRIS へ接続</h1>\n",
    "<ul>\n",
    "    <li>[1] pyodbc パッケージのインポート</li>\n",
    "    <li>[2] IRISに接続</li>\n",
    "    <li>[3] Create Tableの実行</li>\n",
    "    <li>[4] CSVデータのロード（pandasパッケージのインポート） </li>\n",
    "    <li>[5] CSVデータをIRISへ登録（INSERTの実行）</li>\n",
    "    <li>[6] SELECTの実行(numpyパッケージのインポート)</li>\n",
    "</ul>"
   ]
  },
  {
   "cell_type": "markdown",
   "metadata": {},
   "source": [
    "[1] pyodbcパッケージのインポート"
   ]
  },
  {
   "cell_type": "code",
   "execution_count": 3,
   "metadata": {},
   "outputs": [],
   "source": [
    "import pyodbc"
   ]
  },
  {
   "cell_type": "markdown",
   "metadata": {},
   "source": [
    "[2] IRISに接続"
   ]
  },
  {
   "cell_type": "code",
   "execution_count": 4,
   "metadata": {},
   "outputs": [],
   "source": [
    "connection=pyodbc.connect(\"DRIVER={InterSystems IRIS ODBC35};SERVER=selflearning-iris;PORT=1972;DATABASE=user;UID=_system;PWD=SYS\")\n",
    "connection.setencoding(encoding='utf-8')"
   ]
  },
  {
   "cell_type": "markdown",
   "metadata": {},
   "source": [
    "[3] Create Tableの実行"
   ]
  },
  {
   "cell_type": "code",
   "execution_count": null,
   "metadata": {},
   "outputs": [],
   "source": [
    "create_table=\"CREATE TABLE Titanic.Passenger (PassengerId INTEGER, Survived  BIT, Pclass INTEGER,\"\\\n",
    " \"Name VARCHAR(100), Sex VARCHAR(50), Age INTEGER,SibSp INTEGER, Parch INTEGER, \"\\\n",
    " \"Fare VARCHAR(50), Ticket VARCHAR(50), Cabin VARCHAR(50), Embarked VARCHAR(50))\"\n",
    "cursor = connection.cursor()\n",
    "cursor.execute(create_table)\n",
    "connection.commit()"
   ]
  },
  {
   "cell_type": "markdown",
   "metadata": {},
   "source": [
    "[4] CSVデータのロード（pandasパッケージのインポート）"
   ]
  },
  {
   "cell_type": "code",
   "execution_count": null,
   "metadata": {},
   "outputs": [],
   "source": [
    "import pandas as pd\n",
    "train=pd.read_csv(\"train.csv\")\n",
    "train"
   ]
  },
  {
   "cell_type": "markdown",
   "metadata": {},
   "source": [
    "[5] CSVデータをIRISへ登録（INSERTの実行）"
   ]
  },
  {
   "cell_type": "code",
   "execution_count": null,
   "metadata": {},
   "outputs": [],
   "source": [
    "insertsql=\"insert into Titanic.Passenger \"\\\n",
    "    \"(PassengerId, Survived, Pclass, Name, Sex, Age, SibSp, Parch, Fare, Ticket, Cabin, Embarked) \"\\\n",
    "    \"values(?,?,?,?,?,?,?,?,?,?,?,?)\"\n",
    "cursor = connection.cursor()\n",
    "for index, row in train.iterrows():\n",
    "    cursor.execute(insertsql,row[0],row[1],row[2],row[3],row[4],row[5],row[6],row[7],row[8],row[9],row[10],row[11])\n",
    "connection.commit()"
   ]
  },
  {
   "cell_type": "markdown",
   "metadata": {},
   "source": [
    "[6] SELECTの実行"
   ]
  },
  {
   "cell_type": "code",
   "execution_count": null,
   "metadata": {},
   "outputs": [],
   "source": [
    "import numpy as np\n",
    "sql=\"SELECT PassengerId, Survived, Pclass, Name, Sex, Age, SibSp, Parch, Fare, Ticket, Cabin, Embarked FROM Titanic.Passenger\"\n",
    "cursor = connection.cursor()\n",
    "cursor.execute(sql)\n",
    "rows=cursor.fetchall()\n",
    "data = pd.DataFrame(np.array(rows))\n",
    "data.columns = ['PassengerId', 'Survived', 'Pclass','Name','Sex','Age','SibSp','Parch','Fare','Ticket','Cabin','Embarked']\n",
    "\n",
    "data"
   ]
  },
  {
   "cell_type": "code",
   "execution_count": null,
   "metadata": {},
   "outputs": [],
   "source": [
    "connection.close()"
   ]
  }
 ],
 "metadata": {
  "kernelspec": {
   "display_name": "Python 3",
   "language": "python",
   "name": "python3"
  },
  "language_info": {
   "codemirror_mode": {
    "name": "ipython",
    "version": 3
   },
   "file_extension": ".py",
   "mimetype": "text/x-python",
   "name": "python",
   "nbconvert_exporter": "python",
   "pygments_lexer": "ipython3",
   "version": "3.7.3"
  }
 },
 "nbformat": 4,
 "nbformat_minor": 4
}
